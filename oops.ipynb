{
 "cells": [
  {
   "cell_type": "markdown",
   "id": "b54e5578-7013-4444-9a93-e0b17bef25ad",
   "metadata": {},
   "source": [
    "# Python Classes and Objects"
   ]
  },
  {
   "cell_type": "code",
   "execution_count": 2,
   "id": "74246373-27d8-4323-bffc-5c323a516b50",
   "metadata": {},
   "outputs": [],
   "source": [
    "\n",
    "class Person:\n",
    "    def __init__(self, name, age):\n",
    "        self.name = name\n",
    "        self.age  = age"
   ]
  },
  {
   "cell_type": "code",
   "execution_count": 7,
   "id": "3173e15c-049f-492d-8c4d-9faf4449442e",
   "metadata": {},
   "outputs": [
    {
     "name": "stdout",
     "output_type": "stream",
     "text": [
      "Diallo\n"
     ]
    }
   ],
   "source": [
    "\n",
    "person1  = Person(\"Diallo\", 49)\n",
    "print(person1.name)"
   ]
  },
  {
   "cell_type": "markdown",
   "id": "c374a61b-f756-4a9e-b684-e0362577b21f",
   "metadata": {},
   "source": [
    "### The __str__() Function\n",
    " The __str__() function controls what should be returned when the class object is represented as a string.\n",
    "\n",
    " If the __str__() function is not set, the string representation of the object is returned:"
   ]
  },
  {
   "cell_type": "code",
   "execution_count": 19,
   "id": "6086e20c-6c9f-4463-bb77-ed52f3f1635c",
   "metadata": {},
   "outputs": [],
   "source": [
    "class Person:\n",
    "    def __init__(self, name, age):\n",
    "        self.name = name\n",
    "        self.age  = age\n",
    "\n",
    "    def __str__(self):\n",
    "        return f'The name is: {self.name} and the age is: {self.age}'"
   ]
  },
  {
   "cell_type": "code",
   "execution_count": 20,
   "id": "99bc66ea-6311-4d4d-ae99-da7a86dc6ed7",
   "metadata": {},
   "outputs": [
    {
     "name": "stdout",
     "output_type": "stream",
     "text": [
      "The name is: Diallo and the age is: 49\n"
     ]
    }
   ],
   "source": [
    "\n",
    "person1  = Person(\"Diallo\", 49)\n",
    "print(person1)"
   ]
  },
  {
   "cell_type": "markdown",
   "id": "f14a6941-0ad4-4e0f-9578-1e9eedbff752",
   "metadata": {},
   "source": [
    "\n",
    "# Inheritance"
   ]
  },
  {
   "cell_type": "code",
   "execution_count": 39,
   "id": "fde92dab-9571-4041-af77-3be0f9f0ac23",
   "metadata": {},
   "outputs": [],
   "source": [
    "class Driver(Person):\n",
    "    def __init__(self,name, age, number):\n",
    "        super().__init__(name, age)\n",
    "        self.number = number\n",
    "    def driverInfo(self):\n",
    "        print(f\"The driver info number is: {self.number}\")"
   ]
  },
  {
   "cell_type": "code",
   "execution_count": 41,
   "id": "4e66444f-6d67-41c6-8a17-c576c2cd9bda",
   "metadata": {},
   "outputs": [
    {
     "name": "stdout",
     "output_type": "stream",
     "text": [
      "The name is: Ali and the age is: 39\n",
      "The driver info number is: 1515\n"
     ]
    }
   ],
   "source": [
    "driver1 = Driver(\"Ali\", 39, 1515)\n",
    "print(driver1)\n",
    "driver1.driverInfo()"
   ]
  },
  {
   "cell_type": "code",
   "execution_count": null,
   "id": "0d83b95e-364e-4c24-8c0a-029b6459ead1",
   "metadata": {},
   "outputs": [],
   "source": []
  }
 ],
 "metadata": {
  "kernelspec": {
   "display_name": "Python 3 (ipykernel)",
   "language": "python",
   "name": "python3"
  },
  "language_info": {
   "codemirror_mode": {
    "name": "ipython",
    "version": 3
   },
   "file_extension": ".py",
   "mimetype": "text/x-python",
   "name": "python",
   "nbconvert_exporter": "python",
   "pygments_lexer": "ipython3",
   "version": "3.10.12"
  }
 },
 "nbformat": 4,
 "nbformat_minor": 5
}
