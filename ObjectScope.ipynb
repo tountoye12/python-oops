{
 "cells": [
  {
   "cell_type": "markdown",
   "id": "2e50c026-8aa6-4fa2-87d8-6781067dcf5b",
   "metadata": {},
   "source": [
    "# Object  Scopes and Searching"
   ]
  },
  {
   "cell_type": "code",
   "execution_count": 18,
   "id": "8c713ca3-1e22-473b-a1a2-3b803f68d45a",
   "metadata": {},
   "outputs": [],
   "source": [
    "x = 4\n",
    "def test(y):\n",
    "    x = 2\n",
    "    print(x - 1 + y)"
   ]
  },
  {
   "cell_type": "code",
   "execution_count": 19,
   "id": "d605d927-8704-46e5-8cdd-f021e47ec63b",
   "metadata": {},
   "outputs": [
    {
     "name": "stdout",
     "output_type": "stream",
     "text": [
      "4\n",
      "1\n"
     ]
    }
   ],
   "source": [
    "print(x)\n",
    "test(2)"
   ]
  },
  {
   "cell_type": "code",
   "execution_count": 21,
   "id": "f6571153-371f-4ce2-bd49-aef4fdd4600f",
   "metadata": {},
   "outputs": [],
   "source": [
    "#dir(__builtins__)"
   ]
  },
  {
   "cell_type": "code",
   "execution_count": 24,
   "id": "db4b9859-6624-4c94-ace1-5b7ae0a2ff60",
   "metadata": {},
   "outputs": [],
   "source": [
    "def function_1(in1:str):\n",
    "    var1 = 1\n",
    "    print(\"variables in the function local scope\", locals())"
   ]
  },
  {
   "cell_type": "code",
   "execution_count": 25,
   "id": "399ccef7-fc1e-4a24-a73d-476992a7c85a",
   "metadata": {},
   "outputs": [
    {
     "name": "stdout",
     "output_type": "stream",
     "text": [
      "variables in the function local scope {'in1': 'Test', 'var1': 1}\n"
     ]
    }
   ],
   "source": [
    "function_1(\"Test\")"
   ]
  },
  {
   "cell_type": "code",
   "execution_count": null,
   "id": "b04674b0-7325-46a8-ba2d-e9e8619b21d5",
   "metadata": {},
   "outputs": [],
   "source": []
  },
  {
   "cell_type": "code",
   "execution_count": null,
   "id": "e5819c01-20ce-48d7-a19b-ffbbe7a2cba9",
   "metadata": {},
   "outputs": [],
   "source": []
  },
  {
   "cell_type": "code",
   "execution_count": null,
   "id": "94e36d8e-8262-4521-bb10-f8c658e2b732",
   "metadata": {},
   "outputs": [],
   "source": []
  }
 ],
 "metadata": {
  "kernelspec": {
   "display_name": "Python 3 (ipykernel)",
   "language": "python",
   "name": "python3"
  },
  "language_info": {
   "codemirror_mode": {
    "name": "ipython",
    "version": 3
   },
   "file_extension": ".py",
   "mimetype": "text/x-python",
   "name": "python",
   "nbconvert_exporter": "python",
   "pygments_lexer": "ipython3",
   "version": "3.10.12"
  }
 },
 "nbformat": 4,
 "nbformat_minor": 5
}
