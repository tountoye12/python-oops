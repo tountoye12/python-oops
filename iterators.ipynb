{
 "cells": [
  {
   "cell_type": "markdown",
   "id": "323fc272-8d37-40f6-a4fe-746726ea1f0b",
   "metadata": {},
   "source": [
    "# Python Iterators"
   ]
  },
  {
   "cell_type": "code",
   "execution_count": 1,
   "id": "233a2c7e-891d-46c7-9a20-84c29d6cc1a7",
   "metadata": {},
   "outputs": [],
   "source": [
    "mytuple = (\"apple\", \"banana\", \"cherry\")"
   ]
  },
  {
   "cell_type": "code",
   "execution_count": 6,
   "id": "04369f15-3e6f-4a01-a1f1-dcc1e7566f7d",
   "metadata": {},
   "outputs": [
    {
     "name": "stdout",
     "output_type": "stream",
     "text": [
      "apple\n",
      "banana\n",
      "cherry\n"
     ]
    }
   ],
   "source": [
    "myIt = iter(mytuple)\n",
    "for i in range(3):\n",
    "    print(next(myIt))"
   ]
  },
  {
   "cell_type": "code",
   "execution_count": null,
   "id": "d91396a9-f02b-43ed-ad27-e52bad13a9e7",
   "metadata": {},
   "outputs": [],
   "source": []
  },
  {
   "cell_type": "code",
   "execution_count": null,
   "id": "0c8f594d-16e7-434a-9305-da4252d11dc6",
   "metadata": {},
   "outputs": [],
   "source": []
  },
  {
   "cell_type": "code",
   "execution_count": null,
   "id": "d34883ae-bdfc-44ea-8e87-843d6164fd3b",
   "metadata": {},
   "outputs": [],
   "source": []
  }
 ],
 "metadata": {
  "kernelspec": {
   "display_name": "Python 3 (ipykernel)",
   "language": "python",
   "name": "python3"
  },
  "language_info": {
   "codemirror_mode": {
    "name": "ipython",
    "version": 3
   },
   "file_extension": ".py",
   "mimetype": "text/x-python",
   "name": "python",
   "nbconvert_exporter": "python",
   "pygments_lexer": "ipython3",
   "version": "3.10.12"
  }
 },
 "nbformat": 4,
 "nbformat_minor": 5
}
